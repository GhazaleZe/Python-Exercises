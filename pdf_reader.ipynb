{
  "nbformat": 4,
  "nbformat_minor": 0,
  "metadata": {
    "colab": {
      "provenance": [],
      "authorship_tag": "ABX9TyNRimkxvS1aZjgtMAeCwrSE",
      "include_colab_link": true
    },
    "kernelspec": {
      "name": "python3",
      "display_name": "Python 3"
    },
    "language_info": {
      "name": "python"
    }
  },
  "cells": [
    {
      "cell_type": "markdown",
      "metadata": {
        "id": "view-in-github",
        "colab_type": "text"
      },
      "source": [
        "<a href=\"https://colab.research.google.com/github/GhazaleZe/Python-Exercises/blob/main/pdf_reader.ipynb\" target=\"_parent\"><img src=\"https://colab.research.google.com/assets/colab-badge.svg\" alt=\"Open In Colab\"/></a>"
      ]
    },
    {
      "cell_type": "code",
      "source": [
        "! pip install PyMuPDF"
      ],
      "metadata": {
        "colab": {
          "base_uri": "https://localhost:8080/"
        },
        "id": "uFVbwutgdNpe",
        "outputId": "4207c20c-61f6-496e-a482-b413ea207dc3"
      },
      "execution_count": 1,
      "outputs": [
        {
          "output_type": "stream",
          "name": "stdout",
          "text": [
            "Collecting PyMuPDF\n",
            "  Downloading pymupdf-1.26.3-cp39-abi3-manylinux_2_28_x86_64.whl.metadata (3.4 kB)\n",
            "Downloading pymupdf-1.26.3-cp39-abi3-manylinux_2_28_x86_64.whl (24.1 MB)\n",
            "\u001b[2K   \u001b[90m━━━━━━━━━━━━━━━━━━━━━━━━━━━━━━━━━━━━━━━━\u001b[0m \u001b[32m24.1/24.1 MB\u001b[0m \u001b[31m57.5 MB/s\u001b[0m eta \u001b[36m0:00:00\u001b[0m\n",
            "\u001b[?25hInstalling collected packages: PyMuPDF\n",
            "Successfully installed PyMuPDF-1.26.3\n"
          ]
        }
      ]
    },
    {
      "cell_type": "code",
      "execution_count": 4,
      "metadata": {
        "colab": {
          "base_uri": "https://localhost:8080/"
        },
        "id": "g7746MXgcJbf",
        "outputId": "6c685e71-f781-4ba5-ce48-8cc7f468920c"
      },
      "outputs": [
        {
          "output_type": "stream",
          "name": "stdout",
          "text": [
            "Saved image: extracted_images/page_0_img_8.png\n",
            "Saved image: extracted_images/page_0_img_9.png\n",
            "\n",
            "--- Extraction Summary ---\n",
            "Total images saved: 2\n",
            "Saved images are in the 'extracted_images' directory.\n",
            "\n",
            "--- Page 1 has 9 text blocks ---\n"
          ]
        }
      ],
      "source": [
        "import fitz  # PyMuPDF\n",
        "import os\n",
        "from pathlib import Path\n",
        "\n",
        "def extract_and_save_images(pdf_path, output_dir):\n",
        "    \"\"\"\n",
        "    Extracts all images from a PDF and saves them to a specified directory.\n",
        "\n",
        "    Args:\n",
        "        pdf_path (str): The path to the PDF file.\n",
        "        output_dir (str): The path to the directory where images will be saved.\n",
        "\n",
        "    Returns:\n",
        "        A list of paths to the saved images.\n",
        "    \"\"\"\n",
        "    # Create the output directory if it doesn't exist\n",
        "    Path(output_dir).mkdir(parents=True, exist_ok=True)\n",
        "\n",
        "    try:\n",
        "        doc = fitz.open(pdf_path)\n",
        "    except Exception as e:\n",
        "        print(f\"Error opening PDF: {e}\")\n",
        "        return []\n",
        "\n",
        "    saved_image_paths = []\n",
        "\n",
        "    for page_num in range(doc.page_count):\n",
        "        page = doc[page_num]\n",
        "\n",
        "        # Get a list of all images on the page\n",
        "        image_list = page.get_images(full=True)\n",
        "\n",
        "        for img_info in image_list:\n",
        "            xref = img_info[0]\n",
        "\n",
        "            # Extract the image data\n",
        "            image_object = doc.extract_image(xref)\n",
        "            image_data = image_object[\"image\"]\n",
        "\n",
        "            # Get the image extension (e.g., \"png\", \"jpeg\")\n",
        "            image_ext = image_object[\"ext\"]\n",
        "\n",
        "            # Create a unique filename\n",
        "            image_filename = f\"page_{page_num}_img_{xref}.{image_ext}\"\n",
        "            image_path = os.path.join(output_dir, image_filename)\n",
        "\n",
        "            # Write the image data to a file\n",
        "            try:\n",
        "                with open(image_path, \"wb\") as img_file:\n",
        "                    img_file.write(image_data)\n",
        "                saved_image_paths.append(image_path)\n",
        "                print(f\"Saved image: {image_path}\")\n",
        "            except Exception as e:\n",
        "                print(f\"Error saving image {image_path}: {e}\")\n",
        "\n",
        "    doc.close()\n",
        "    return saved_image_paths\n",
        "\n",
        "# --- Full Example Usage ---\n",
        "\n",
        "def extract_and_save_all_content(pdf_path, images_output_dir=\"extracted_images\"):\n",
        "    \"\"\"\n",
        "    A combined function to extract text blocks and save all images.\n",
        "\n",
        "    Args:\n",
        "        pdf_path (str): The path to the PDF file.\n",
        "        images_output_dir (str): The directory to save images to.\n",
        "\n",
        "    Returns:\n",
        "        A dictionary with extracted text content and a list of saved image paths.\n",
        "    \"\"\"\n",
        "    Path(images_output_dir).mkdir(parents=True, exist_ok=True)\n",
        "\n",
        "    try:\n",
        "        doc = fitz.open(pdf_path)\n",
        "    except Exception as e:\n",
        "        print(f\"Error opening PDF: {e}\")\n",
        "        return None\n",
        "\n",
        "    all_content = {'pages': [], 'saved_images': []}\n",
        "\n",
        "    for page_num in range(doc.page_count):\n",
        "        page = doc[page_num]\n",
        "        page_content = {\n",
        "            'page_number': page_num,\n",
        "            'page_size': (page.rect.width, page.rect.height),\n",
        "            'text_blocks': []\n",
        "        }\n",
        "\n",
        "        # --- 1. Extract Text Blocks ---\n",
        "        text_blocks = page.get_text(\"blocks\")\n",
        "        for block in text_blocks:\n",
        "            x0, y0, x1, y1, text, _, block_type = block\n",
        "            if block_type == 0:\n",
        "                page_content['text_blocks'].append({\n",
        "                    'text': text.strip(),\n",
        "                    'bbox': (x0, y0, x1, y1)\n",
        "                })\n",
        "\n",
        "        # --- 2. Extract and Save Images ---\n",
        "        images = page.get_images(full=True)\n",
        "        for img_info in images:\n",
        "            xref = img_info[0]\n",
        "            image_object = doc.extract_image(xref)\n",
        "            image_data = image_object['image']\n",
        "            image_ext = image_object['ext']\n",
        "\n",
        "            image_filename = f\"page_{page_num}_img_{xref}.{image_ext}\"\n",
        "            image_path = os.path.join(images_output_dir, image_filename)\n",
        "\n",
        "            try:\n",
        "                with open(image_path, \"wb\") as img_file:\n",
        "                    img_file.write(image_data)\n",
        "                all_content['saved_images'].append(image_path)\n",
        "                print(f\"Saved image: {image_path}\")\n",
        "            except Exception as e:\n",
        "                print(f\"Error saving image {image_path}: {e}\")\n",
        "\n",
        "        all_content['pages'].append(page_content)\n",
        "\n",
        "    doc.close()\n",
        "    return all_content\n",
        "\n",
        "# --- Example Usage ---\n",
        "if __name__ == '__main__':\n",
        "    # You need a PDF file named 'sample.pdf' for this to work.\n",
        "    pdf_file_path = 'test_pdf.pdf'\n",
        "\n",
        "    # Directory to save the extracted images\n",
        "    output_directory = \"extracted_images\"\n",
        "\n",
        "    # Run the combined function\n",
        "    extracted_results = extract_and_save_all_content(pdf_file_path, output_directory)\n",
        "\n",
        "    if extracted_results:\n",
        "        print(\"\\n--- Extraction Summary ---\")\n",
        "        print(f\"Total images saved: {len(extracted_results['saved_images'])}\")\n",
        "        print(f\"Saved images are in the '{output_directory}' directory.\")\n",
        "\n",
        "        # You can still access the text data if needed\n",
        "        for page in extracted_results['pages']:\n",
        "            print(f\"\\n--- Page {page['page_number'] + 1} has {len(page['text_blocks'])} text blocks ---\")\n",
        "            # You can process the text blocks here as before"
      ]
    },
    {
      "cell_type": "code",
      "source": [
        "extracted_results"
      ],
      "metadata": {
        "colab": {
          "base_uri": "https://localhost:8080/"
        },
        "id": "72wwqAddd90j",
        "outputId": "8f270194-459d-4374-e6f7-5c25f29a95d9"
      },
      "execution_count": 5,
      "outputs": [
        {
          "output_type": "execute_result",
          "data": {
            "text/plain": [
              "{'pages': [{'page_number': 0,\n",
              "   'page_size': (612.0, 792.0),\n",
              "   'text_blocks': [{'text': '',\n",
              "     'bbox': (540.0,\n",
              "      195.8520050048828,\n",
              "      542.4359741210938,\n",
              "      210.50401306152344)},\n",
              "    {'text': '',\n",
              "     'bbox': (72.0, 217.21200561523438, 74.43599700927734, 231.864013671875)},\n",
              "    {'text': 'This is test for library',\n",
              "     'bbox': (72.0,\n",
              "      242.41201782226562,\n",
              "      180.12742614746094,\n",
              "      257.06402587890625)},\n",
              "    {'text': '',\n",
              "     'bbox': (540.0, 537.6119995117188, 542.4359741210938, 552.2639770507812)},\n",
              "    {'text': '',\n",
              "     'bbox': (72.0, 558.9719848632812, 74.43599700927734, 573.6239624023438)},\n",
              "    {'text': '',\n",
              "     'bbox': (72.0, 583.9320068359375, 98.43599700927734, 598.583984375)},\n",
              "    {'text': '',\n",
              "     'bbox': (72.0, 608.8920288085938, 74.43599700927734, 623.5440063476562)},\n",
              "    {'text': 'There is data in the ﬁrst box \\nI’ve added',\n",
              "     'bbox': (109.19994354248047,\n",
              "      585.6119995117188,\n",
              "      251.7911834716797,\n",
              "      617.3040161132812)},\n",
              "    {'text': 'This is important data in \\nsecond box that I’ve added',\n",
              "     'bbox': (376.55999755859375,\n",
              "      585.6119995117188,\n",
              "      517.0723266601562,\n",
              "      617.3040161132812)}]}],\n",
              " 'saved_images': ['extracted_images/page_0_img_8.png',\n",
              "  'extracted_images/page_0_img_9.png']}"
            ]
          },
          "metadata": {},
          "execution_count": 5
        }
      ]
    },
    {
      "cell_type": "code",
      "source": [
        "extracted_results['pages'][0]"
      ],
      "metadata": {
        "colab": {
          "base_uri": "https://localhost:8080/"
        },
        "id": "aDVGJl-3eLZy",
        "outputId": "c6244240-b850-46f1-dc90-845ec23fc61f"
      },
      "execution_count": 7,
      "outputs": [
        {
          "output_type": "execute_result",
          "data": {
            "text/plain": [
              "{'page_number': 0,\n",
              " 'page_size': (612.0, 792.0),\n",
              " 'text_blocks': [{'text': '',\n",
              "   'bbox': (540.0, 195.8520050048828, 542.4359741210938, 210.50401306152344)},\n",
              "  {'text': '',\n",
              "   'bbox': (72.0, 217.21200561523438, 74.43599700927734, 231.864013671875)},\n",
              "  {'text': 'This is test for library',\n",
              "   'bbox': (72.0, 242.41201782226562, 180.12742614746094, 257.06402587890625)},\n",
              "  {'text': '',\n",
              "   'bbox': (540.0, 537.6119995117188, 542.4359741210938, 552.2639770507812)},\n",
              "  {'text': '',\n",
              "   'bbox': (72.0, 558.9719848632812, 74.43599700927734, 573.6239624023438)},\n",
              "  {'text': '',\n",
              "   'bbox': (72.0, 583.9320068359375, 98.43599700927734, 598.583984375)},\n",
              "  {'text': '',\n",
              "   'bbox': (72.0, 608.8920288085938, 74.43599700927734, 623.5440063476562)},\n",
              "  {'text': 'There is data in the ﬁrst box \\nI’ve added',\n",
              "   'bbox': (109.19994354248047,\n",
              "    585.6119995117188,\n",
              "    251.7911834716797,\n",
              "    617.3040161132812)},\n",
              "  {'text': 'This is important data in \\nsecond box that I’ve added',\n",
              "   'bbox': (376.55999755859375,\n",
              "    585.6119995117188,\n",
              "    517.0723266601562,\n",
              "    617.3040161132812)}]}"
            ]
          },
          "metadata": {},
          "execution_count": 7
        }
      ]
    }
  ]
}